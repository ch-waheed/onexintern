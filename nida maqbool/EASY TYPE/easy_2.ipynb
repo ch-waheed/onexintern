{
  "nbformat": 4,
  "nbformat_minor": 0,
  "metadata": {
    "colab": {
      "provenance": []
    },
    "kernelspec": {
      "name": "python3",
      "display_name": "Python 3"
    },
    "language_info": {
      "name": "python"
    }
  },
  "cells": [
    {
      "cell_type": "code",
      "execution_count": 1,
      "metadata": {
        "id": "q2oIJQ9AoGAh",
        "colab": {
          "base_uri": "https://localhost:8080/"
        },
        "outputId": "2eb04def-b625-4651-b311-299d8cbfe811"
      },
      "outputs": [
        {
          "output_type": "stream",
          "name": "stdout",
          "text": [
            "[1 2 3 4 5 6 7 8]\n"
          ]
        }
      ],
      "source": [
        "\n",
        "#remove duplicate from sorted arrays\n",
        "#easy\n",
        "import numpy as np\n",
        "arr =np.array([1,1,2,2,3,3,4,5,6,7,7,8])\n",
        "x=np.unique(arr) \n",
        "print (x)\n"
      ]
    }
  ]
}