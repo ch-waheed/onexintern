{
  "nbformat": 4,
  "nbformat_minor": 0,
  "metadata": {
    "colab": {
      "provenance": []
    },
    "kernelspec": {
      "name": "python3",
      "display_name": "Python 3"
    },
    "language_info": {
      "name": "python"
    }
  },
  "cells": [
    {
      "cell_type": "code",
      "source": [
        "import numpy as np\n",
        "list_1=np.array([3,2,0,1])\n",
        "print(np.sort(list_1))\n",
        "list_2=np.array([7,6,8])\n",
        "print(np.sort(list_2))\n",
        "list_3=np.concatenate((list_1,list_2))\n",
        "print(np.sort(list_3))\n",
        "x=np.median(list_3)\n",
        "print(x)"
      ],
      "metadata": {
        "colab": {
          "base_uri": "https://localhost:8080/"
        },
        "id": "5HOpU7xn16Ix",
        "outputId": "6d8a6408-68be-4cb2-9b4e-7cfe4b46d8c2"
      },
      "execution_count": 2,
      "outputs": [
        {
          "output_type": "stream",
          "name": "stdout",
          "text": [
            "[0 1 2 3]\n",
            "[6 7 8]\n",
            "[0 1 2 3 6 7 8]\n",
            "3.0\n"
          ]
        }
      ]
    }
  ]
}