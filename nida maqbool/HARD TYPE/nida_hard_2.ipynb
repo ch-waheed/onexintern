{
  "nbformat": 4,
  "nbformat_minor": 0,
  "metadata": {
    "colab": {
      "provenance": []
    },
    "kernelspec": {
      "name": "python3",
      "display_name": "Python 3"
    },
    "language_info": {
      "name": "python"
    }
  },
  "cells": [
    {
      "cell_type": "code",
      "source": [
        "list=[\"bat\",\"tab\",\"cat\"]\n",
        "ind=[]\n",
        "for i in list:\n",
        "   for x in range(len(list)):\n",
        "       num1=list[x]\n",
        "       #print(com)\n",
        "       add=i+num1\n",
        "       #print add\n",
        "       rev=add[::-1]\n",
        "       if add==rev:\n",
        "         print (f\"{add} it is a palindrome pair {rev} \" )\n",
        "         ind.append([list.index(i), list.index(num1)])\n",
        "print(\"indexes of words that make  palindrome pair are\",ind)         "
      ],
      "metadata": {
        "colab": {
          "base_uri": "https://localhost:8080/"
        },
        "id": "EQK4h5QZ2KRH",
        "outputId": "e481a994-a0ab-4ab0-95d5-84d0004b3d54"
      },
      "execution_count": 3,
      "outputs": [
        {
          "output_type": "stream",
          "name": "stdout",
          "text": [
            "battab it is a palindrome pair battab \n",
            "tabbat it is a palindrome pair tabbat \n",
            "indexes of words that make  palindrome pair are [[0, 1], [1, 0]]\n"
          ]
        }
      ]
    }
  ]
}