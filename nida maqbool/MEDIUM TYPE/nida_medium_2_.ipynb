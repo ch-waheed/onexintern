{
  "nbformat": 4,
  "nbformat_minor": 0,
  "metadata": {
    "colab": {
      "provenance": []
    },
    "kernelspec": {
      "name": "python3",
      "display_name": "Python 3"
    },
    "language_info": {
      "name": "python"
    }
  },
  "cells": [
    {
      "cell_type": "code",
      "source": [
        "def first_last_occurrence(nums,target):\n",
        "  ind=[]\n",
        "  #enumerte funtionused to give index no.and data in each item\n",
        "  for index,element in enumerate(nums):\n",
        "       if element == target:\n",
        "         ind.append(index)\n",
        "      #min function used to identify the lowestindex num\n",
        "  try:\n",
        "      print(\"first position of\",(target), \"is\",min(ind))\n",
        "      #max function used to identify the lowest  index  num\n",
        "      print(\"last position of\",(target), \"is\",max(ind))\n",
        "  except:\n",
        "    print(\"try new target\")\n",
        "nums=[8,5,7,8,7,8,10,5]\n",
        "target= int (input(\"enter target\"))\n",
        "first_last_occurrence(nums,target)               "
      ],
      "metadata": {
        "colab": {
          "base_uri": "https://localhost:8080/"
        },
        "id": "4O1m_CUn1kj7",
        "outputId": "6d08b5e3-7d86-466a-d16a-2afb3026750d"
      },
      "execution_count": 1,
      "outputs": [
        {
          "output_type": "stream",
          "name": "stdout",
          "text": [
            "enter target8\n",
            "first position of 8 is 0\n",
            "last position of 8 is 5\n"
          ]
        }
      ]
    }
  ]
}