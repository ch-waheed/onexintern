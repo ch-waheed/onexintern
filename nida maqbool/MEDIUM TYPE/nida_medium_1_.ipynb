{
  "nbformat": 4,
  "nbformat_minor": 0,
  "metadata": {
    "colab": {
      "provenance": []
    },
    "kernelspec": {
      "name": "python3",
      "display_name": "Python 3"
    },
    "language_info": {
      "name": "python"
    }
  },
  "cells": [
    {
      "cell_type": "code",
      "execution_count": null,
      "metadata": {
        "colab": {
          "base_uri": "https://localhost:8080/"
        },
        "id": "vSlGtMN4mSdL",
        "outputId": "7ff2fd3a-2315-402e-a995-6d94f5876a16"
      },
      "outputs": [
        {
          "output_type": "stream",
          "name": "stdout",
          "text": [
            "('a', 'b', 'd')\n",
            "('a', 'd', 'b')\n",
            "('b', 'a', 'd')\n",
            "('b', 'd', 'a')\n",
            "('d', 'a', 'b')\n",
            "('d', 'b', 'a')\n"
          ]
        }
      ],
      "source": [
        "from itertools import permutations\n",
        "seq=permutations(['a','b','d'])\n",
        "for p in list (seq):\n",
        "  print(p)\n"
      ]
    }
  ]
}