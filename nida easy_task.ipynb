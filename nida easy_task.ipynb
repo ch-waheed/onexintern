{
  "nbformat": 4,
  "nbformat_minor": 0,
  "metadata": {
    "colab": {
      "provenance": []
    },
    "kernelspec": {
      "name": "python3",
      "display_name": "Python 3"
    },
    "language_info": {
      "name": "python"
    }
  },
  "cells": [
    {
      "cell_type": "code",
      "execution_count": null,
      "metadata": {
        "colab": {
          "base_uri": "https://localhost:8080/"
        },
        "id": "S4MG7eUbhTDw",
        "outputId": "d6646985-2f9f-419d-8106-18ba58e604df"
      },
      "outputs": [
        {
          "output_type": "stream",
          "name": "stdout",
          "text": [
            "The original list 1 is : [1, 2, 3]\n",
            "The original list 2 is : [4, 5, 6]\n",
            " The sorted list is : [1, 2, 3, 4, 5, 6]\n"
          ]
        }
      ],
      "source": [
        "#easy task\n",
        "list_1 = [1,2,3]\n",
        "list_2 = [4,5,6]\n",
        "print (\"The original list 1 is : \" + str(list_1))\n",
        "print (\"The original list 2 is : \" + str(list_2))\n",
        "size_1 = len(list_1)\n",
        "size_2 = len(list_2)\n",
        "res = []\n",
        "i , j = 0 ,0\n",
        "while i < size_1 and j < size_2:\n",
        "   if list_1[i] < list_2[j]:\n",
        "     res.append(list_1[i])\n",
        "     i=i+1\n",
        "   else: \n",
        "       res.append(list_2[j])\n",
        "       j=j+1\n",
        "res = res + list_1[i:] + list_2[j:]\n",
        "print (\" The sorted list is : \" + str(res))\n",
        "     "
      ]
    },
    {
      "cell_type": "code",
      "source": [
        "#easy task 2\n",
        "#remove duplicate from sorted arrays\n",
        "#easy\n",
        "import numpy as np\n",
        "arr =np.array([1,1,2,2,3,3,4,5,6,7,7,8])\n",
        "x=np.unique(arr) \n",
        "print (x)\n"
      ],
      "metadata": {
        "colab": {
          "base_uri": "https://localhost:8080/"
        },
        "id": "lgsc6ngZh0gb",
        "outputId": "30dc1aea-4c1f-42ef-f4dd-1dab2671926e"
      },
      "execution_count": null,
      "outputs": [
        {
          "output_type": "stream",
          "name": "stdout",
          "text": [
            "[1 2 3 4 5 6 7 8]\n"
          ]
        }
      ]
    }
  ]
}